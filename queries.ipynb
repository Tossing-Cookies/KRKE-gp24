{
 "cells": [
  {
   "cell_type": "code",
   "execution_count": null,
   "metadata": {},
   "outputs": [],
   "source": [
    "from rdflib import Graph, PREFIX # For creating RDF graphs\n",
    "from rdflib.namespace import Namespace  # For working with namespaces (optional)\n",
    "from rdflib.term import URIRef, Literal\n",
    "\n",
    "PREFIX youth: <http://www.semanticweb.org/ontologies/2024/YOUTH/>\n",
    "PREFIX persp: <http://www.ontologydesignpatterns.org/ont/persp/perspectivisation.owl#>\n",
    "PREFIX foaf: <http://xmlns.com/foaf/0.1/>\n",
    "PREFIX owl: <http://www.w3.org/2002/07/owl#>\n",
    "PREFIX rdf: <http://www.w3.org/1999/02/22-rdf-syntax-ns#>\n",
    "PREFIX xml: <http://www.w3.org/XML/1998/namespace>\n",
    "PREFIX xsd: <http://www.w3.org/2001/XMLSchema#>\n",
    "PREFIX rdfs: <http://www.w3.org/2000/01/rdf-schema#>"
   ]
  },
  {
   "cell_type": "markdown",
   "metadata": {},
   "source": [
    "FIRST LEVEL"
   ]
  },
  {
   "cell_type": "markdown",
   "metadata": {},
   "source": [
    "What are the characteristics of the Skaters youth subculture?"
   ]
  },
  {
   "cell_type": "code",
   "execution_count": null,
   "metadata": {},
   "outputs": [],
   "source": [
    "SELECT ?participant ?fashionStyle ?musicGenre ?ritual ?location ?historicalPeriod ?stereotype ?content\n",
    "WHERE {\n",
    "  youth:Skaters a youth:YouthSubculture .\n",
    "  OPTIONAL {youth:Skaters youth:hasParticipant ?participant .}\n",
    "  OPTIONAL { youth:Skaters youth:hasFashionStyle ?fashionStyle . }\n",
    "  OPTIONAL { youth:Skaters youth:hasMusicGenre ?musicGenre . }\n",
    "  OPTIONAL { youth:Skaters youth:hasRitual ?ritual . }\n",
    "  OPTIONAL { youth:Skaters youth:locatedIn ?location . }\n",
    "  OPTIONAL { youth:Skaters youth:originatedIn ?historicalPeriod . }\n",
    "  OPTIONAL { youth:Skaters youth:triggersStereotype ?stereotype . }\n",
    "  OPTIONAL { ?fashionStyle youth:hasContent ?content .}\n",
    "}"
   ]
  },
  {
   "cell_type": "markdown",
   "metadata": {},
   "source": [
    "What core values are associated with the skater subculture?"
   ]
  },
  {
   "cell_type": "code",
   "execution_count": null,
   "metadata": {},
   "outputs": [],
   "source": [
    "SELECT ?MoralValue\n",
    "WHERE {\n",
    "  youth:Skaters youth:hasMoralValue ?MoralValue .\n",
    "}"
   ]
  },
  {
   "cell_type": "markdown",
   "metadata": {},
   "source": [
    "What activities do skater community members typically engage in?"
   ]
  },
  {
   "cell_type": "code",
   "execution_count": null,
   "metadata": {},
   "outputs": [],
   "source": [
    "SELECT ?ritual\n",
    "WHERE {\n",
    "  youth:Skaters youth:hasRitual ?ritual .\n",
    "}"
   ]
  },
  {
   "cell_type": "markdown",
   "metadata": {},
   "source": [
    "Which individuals are part of the Skaters subculture?"
   ]
  },
  {
   "cell_type": "code",
   "execution_count": null,
   "metadata": {},
   "outputs": [],
   "source": [
    "SELECT ?location\n",
    "WHERE {\n",
    "  youth:Skaters youth:locatedIn ?location .\n",
    "}"
   ]
  },
  {
   "cell_type": "markdown",
   "metadata": {},
   "source": [
    "What is the historical period of the skater subculture?"
   ]
  },
  {
   "cell_type": "code",
   "execution_count": null,
   "metadata": {},
   "outputs": [],
   "source": [
    "SELECT ?historicalPeriod\n",
    "WHERE {\n",
    "  youth:Skaters youth:originatedIn ?historicalPeriod .\n",
    "}"
   ]
  },
  {
   "cell_type": "markdown",
   "metadata": {},
   "source": [
    "These queries extract relevant information about the skater subculture, covering aspects such as values, activities, influence, media, and other associated details.\n",
    "\n"
   ]
  },
  {
   "cell_type": "code",
   "execution_count": null,
   "metadata": {},
   "outputs": [],
   "source": [
    "SELECT  ?fashionStyle ?musicGenre ?ritual ?location ?historicalPeriod ?stereotype\n",
    "WHERE {\n",
    "  youth:Skaters a youth:YouthSubculture .\n",
    "  OPTIONAL { youth:Skaters youth:hasFashionStyle ?fashionStyle . }\n",
    "  OPTIONAL { youth:Skaters youth:hasMusicGenre ?musicGenre . }\n",
    "  OPTIONAL { youth:Skaters youth:hasRitual ?ritual . }\n",
    "  OPTIONAL {youth:Skaters youth:locatedIn ?location . }\n",
    "  OPTIONAL { youth:Skaters youth:originatedIn ?historicalPeriod . }\n",
    "  OPTIONAL { youth:Skaters youth:triggersStereotype ?stereotype . }\n",
    "}\n"
   ]
  },
  {
   "cell_type": "markdown",
   "metadata": {},
   "source": [
    "SECOND LEVEL"
   ]
  },
  {
   "cell_type": "code",
   "execution_count": null,
   "metadata": {},
   "outputs": [],
   "source": [
    "PREFIX youth: <http://www.semanticweb.org/ontologies/2024/YOUTH/>\n",
    "PREFIX persp: <http://www.ontologydesignpatterns.org/ont/persp/perspectivisation.owl#>\n",
    "PREFIX foaf: <http://xmlns.com/foaf/0.1/>\n",
    "PREFIX owl: <http://www.w3.org/2002/07/owl#>\n",
    "PREFIX rdf: <http://www.w3.org/1999/02/22-rdf-syntax-ns#>\n",
    "PREFIX xml: <http://www.w3.org/XML/1998/namespace>\n",
    "PREFIX xsd: <http://www.w3.org/2001/XMLSchema#>\n",
    "PREFIX rdfs: <http://www.w3.org/2000/01/rdf-schema#>"
   ]
  },
  {
   "cell_type": "markdown",
   "metadata": {},
   "source": [
    "Who are the indivuduals  that have an external viewpoint regarding a specific youth subculture?"
   ]
  },
  {
   "cell_type": "code",
   "execution_count": null,
   "metadata": {},
   "outputs": [],
   "source": [
    "SELECT ?Person\n",
    "WHERE {\n",
    "  ?Person youth:hasPerceptionOf youth:Skaters .\n",
    "}"
   ]
  },
  {
   "cell_type": "markdown",
   "metadata": {},
   "source": [
    "\n",
    "Who are the individuals that have a negative attitude towards a specific Subculture (Skaters)"
   ]
  },
  {
   "cell_type": "code",
   "execution_count": null,
   "metadata": {},
   "outputs": [],
   "source": [
    "SELECT ?person \n",
    "\n",
    "WHERE {\n",
    "  {\n",
    "    ?person youth:hasAttitude youth:NegativeAttitude .\n",
    "  }\n",
    "  UNION\n",
    "  { \n",
    "    ?person youth:hasPerceptionOf youth:Skaters .\n",
    "    ?person youth:participatesIn youth:Skaters .\n",
    "  }\n",
    "}\n"
   ]
  },
  {
   "cell_type": "markdown",
   "metadata": {},
   "source": [
    "\n",
    "What factors influence the positive and negative attitude towards a specific subculture?"
   ]
  },
  {
   "cell_type": "code",
   "execution_count": null,
   "metadata": {},
   "outputs": [],
   "source": [
    "SELECT ?influence \n",
    "WHERE {\n",
    "  {\n",
    "    ?person  rdf:type youth:Person;\n",
    "            ?participatesIn youth:Skaters .\n",
    "  }\n",
    "  UNION\n",
    "  {\n",
    "      Attitude youth:influencedBy ?influence .\n",
    "  }  \n",
    "}"
   ]
  },
  {
   "cell_type": "markdown",
   "metadata": {},
   "source": [
    "\n",
    "Which stereotypes are associated with a specific subculture"
   ]
  },
  {
   "cell_type": "code",
   "execution_count": null,
   "metadata": {},
   "outputs": [],
   "source": [
    "SELECT ?stereotype \n",
    "WHERE {\n",
    "  ?stereotype rdf:type ex:Stereotype .\n",
    "  ?stereotype ex:triggersStereotype Skaters .\n",
    "}"
   ]
  },
  {
   "cell_type": "markdown",
   "metadata": {},
   "source": [
    "Are there people that have a positiveAttutude but are not part of a spefic subculture?"
   ]
  },
  {
   "cell_type": "code",
   "execution_count": null,
   "metadata": {},
   "outputs": [],
   "source": [
    "SELECT ?person \n",
    "WHERE {\n",
    "  ?person rdf:type ex:NotParticipant .\n",
    "  ?person youth:hasAttitude youth:PositiveAttitude .\n",
    "  ?person youth:hasPerceptionof youth:Skaters\n",
    "}"
   ]
  },
  {
   "cell_type": "markdown",
   "metadata": {},
   "source": [
    "These queries can help the researcher uncover insights into how youth subcultures are perceived and how their internal and external perspectives evolve and interact with societal influences."
   ]
  },
  {
   "cell_type": "code",
   "execution_count": null,
   "metadata": {},
   "outputs": [],
   "source": [
    "SELECT ?ritual ?fashionStyle ?musicGenre ?stereotype ?participant ?attitude ?viewpoint\n",
    "WHERE {\n",
    "  youth:Skaters youth:hasRitual ?ritual .\n",
    "  youth:Skaters youth:hasFashionStyle ?fashionStyle .\n",
    "  youth:Skaters youth:hasMusicGenre ?musicGenre .\n",
    "  youth:Skaters youth:triggersStereotype ?stereotype .\n",
    "  youth:Skaters youth:hasParticipant ?participant .\n",
    "  ?participant youth:hasAttitude ?attitude .\n",
    "  ?participant youth:hasViewpoint ?viewpoint .\n",
    "\n",
    "}"
   ]
  }
 ],
 "metadata": {
  "language_info": {
   "name": "python"
  }
 },
 "nbformat": 4,
 "nbformat_minor": 2
}
